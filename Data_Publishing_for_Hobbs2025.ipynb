{
 "cells": [
  {
   "attachments": {},
   "cell_type": "markdown",
   "metadata": {
    "ein.tags": "worksheet-0",
    "slideshow": {
     "slide_type": "-"
    }
   },
   "source": [
    "# Prepare data for data publishing to Zenodo for Wills 2025 SaFT paper\n",
    "\n",
    "- Simulations: ERA5 simulation, `/g/data/ik11/outputs/access-om2-025/025deg_era5_iaf/`\n",
    "- Time period: 1980-2021 = 42 years of data"
   ]
  },
  {
   "cell_type": "code",
   "execution_count": null,
   "metadata": {
    "autoscroll": false,
    "ein.tags": "worksheet-0",
    "slideshow": {
     "slide_type": "-"
    }
   },
   "outputs": [],
   "source": [
    "#Load required packages\n",
    "%matplotlib inline\n",
    "import matplotlib.pyplot as plt\n",
    "import xarray as xr\n",
    "import numpy as np\n",
    "from tqdm import tqdm\n",
    "import glob\n",
    "import sys, os"
   ]
  },
  {
   "cell_type": "code",
   "execution_count": null,
   "metadata": {},
   "outputs": [],
   "source": [
    "# ERA5 run:\n",
    "# -----------------\n",
    "base = '/g/data/ik11/outputs/access-om2-025/025deg_era5_iaf/'\n",
    "outname = 'ACCESS-OM2-025_ERA5_'\n",
    "\n",
    "# 1980-2021:\n",
    "years = np.arange(1980,2022,1)\n",
    "outputs = np.arange(0, 42,1)"
   ]
  },
  {
   "cell_type": "code",
   "execution_count": null,
   "metadata": {},
   "outputs": [],
   "source": [
    "ocean_vars = {'temp':'ocean/ocean-3d-temp-1-monthly-mean-ym_%04d_01.nc',\n",
    "             'salt':'ocean/ocean-3d-salt-1-monthly-mean-ym_%04d_01.nc',\n",
    "             'net_sfc_heating':'ocean/ocean-2d-net_sfc_heating-1-monthly-mean-ym_%04d_01.nc',\n",
    "             'mld':'ocean/ocean-2d-mld-1-monthly-mean-ym_%04d_01.nc'}\n",
    "ice_vars  = ['aice_m','tarea']\n",
    "\n",
    "output_dir = '/g/data/e14/rmh561/Hobbs_2025_SaFT_project/data_publishing/'\n",
    "\n",
    "region = [-360, 360, -90, -45]\n",
    "depths = [0, 20]\n",
    "rho0 = 1035.\n",
    "Cp = 3992.10322329649"
   ]
  },
  {
   "cell_type": "code",
   "execution_count": null,
   "metadata": {},
   "outputs": [],
   "source": [
    "# Grid variables:\n",
    "dsgrid = xr.open_dataset(base + 'output%03d/ocean/' % outputs[0] + 'ocean-2d-geolon_t.nc').sel(xt_ocean=slice(region[0],region[1]),yt_ocean=slice(region[2],region[3])).isel(time=0,drop=True).load()\n",
    "dsgrid['geolat_t'] = xr.open_dataset(base + 'output%03d/ocean/' % outputs[0] + 'ocean-2d-geolat_t.nc')['geolat_t'].sel(xt_ocean=slice(region[0],region[1]),yt_ocean=slice(region[2],region[3])).load()\n",
    "\n",
    "# st_edges_ocean:\n",
    "dsgrid['st_edges_ocean'] = xr.open_dataset(base + 'output%03d/ocean/' % outputs[0] + 'ocean-3d-temp-1-monthly-mean-ym_%04d_01.nc' % years[0])['st_edges_ocean']"
   ]
  },
  {
   "cell_type": "code",
   "execution_count": null,
   "metadata": {},
   "outputs": [],
   "source": [
    "for i, output in tqdm(enumerate(outputs)):\n",
    "    year = years[i]\n",
    "    \n",
    "    ##### OCEAN VARS:\n",
    "    \n",
    "    # Load vars into a dataset:\n",
    "    vari = list(ocean_vars.keys())[0]\n",
    "    file = ocean_vars[vari]\n",
    "    ds = xr.open_dataset(base + 'output%03d/' % output + file % year)[vari].to_dataset()\n",
    "    for var, file in ocean_vars.items():\n",
    "        if var != vari: \n",
    "            ds[var] = xr.open_dataset(base + 'output%03d/' % output + file % year)[var]\n",
    "    \n",
    "    # Subselect region:\n",
    "    ds = ds.sel(xt_ocean=slice(region[0],region[1]),yt_ocean=slice(region[2],region[3])).isel(st_ocean=slice(depths[0],depths[1]+1))\n",
    "    \n",
    "    # Load:\n",
    "    ds.load()\n",
    "    \n",
    "    # Add coordinates:\n",
    "    ds = ds.assign_coords({'geolon_t':dsgrid['geolon_t'],'geolat_t':dsgrid['geolat_t'],'st_edges_ocean':dsgrid['st_edges_ocean'].isel(st_edges_ocean=slice(0,len(ds.st_ocean)+1))})\n",
    "    \n",
    "    # Save to netcdf:\n",
    "    ds.to_netcdf(output_dir + outname + 'ocean_vars_' + str(year) + '.nc')\n",
    "    \n",
    "    ##### ICE VARS:\n",
    "    \n",
    "    # Load vars into a dataset:\n",
    "    ds_ice = xr.open_mfdataset([base + 'output%03d/ice/OUTPUT/iceh.%04d-' % (output,year) + '%02d.nc' % (x+1) for x in range(12)]\n",
    "                           ,concat_dim='time',coords=['time','TLON','TLAT'],combine='nested',compat='override',parallel=True)[ice_vars]\n",
    "                           #data_vars=ice_vars,concat_dim='time',combine='nested', \n",
    "                           #coords=['time','TLON','TLAT','tmask','tarea'],compat='override',parallel=True,drop_variables=['NCAT'])\n",
    "    \n",
    "    # Subselect region:\n",
    "    ds_ice = ds_ice.sel(nj=slice(0,len(ds.yt_ocean)))\n",
    "\n",
    "    # Get rid of time in tarea:\n",
    "    ds_ice['tarea'] = ds_ice.tarea.isel(time=0,drop=True)\n",
    "    \n",
    "    # Load:\n",
    "    ds_ice.load()\n",
    "    \n",
    "    # Save to netcdf:\n",
    "    ds_ice.to_netcdf(output_dir + outname + 'ice_vars_' + str(year) + '.nc')"
   ]
  }
 ],
 "metadata": {
  "kernelspec": {
   "display_name": "Python [conda env:analysis3]",
   "language": "python",
   "name": "conda-env-analysis3-py"
  },
  "language_info": {
   "codemirror_mode": {
    "name": "ipython",
    "version": 3
   },
   "file_extension": ".py",
   "mimetype": "text/x-python",
   "name": "python",
   "nbconvert_exporter": "python",
   "pygments_lexer": "ipython3",
   "version": "3.11.13"
  },
  "name": "Meridional_Heat_Transport.ipynb"
 },
 "nbformat": 4,
 "nbformat_minor": 4
}
