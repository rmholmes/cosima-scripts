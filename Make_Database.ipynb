{
 "cells": [
  {
   "cell_type": "markdown",
   "metadata": {
    "ein.tags": "worksheet-0",
    "slideshow": {
     "slide_type": "-"
    }
   },
   "source": [
    "# Make Your Own Database\n",
    "\n",
    "The COSIMA cookbook uses a database to access information about experiments and to help with loading model output. We maintain a default database for ACCESS-OM2 experiments, but there are occasions when you might want to make your own database. This tutorial outlines the process of making your own private database.\n",
    "\n",
    "**Requirements:** We recommend that you use the most recent `conda/analysis3` (or later) kernel on NCI (or your own up-to-date cookbook installation)."
   ]
  },
  {
   "cell_type": "code",
   "execution_count": 1,
   "metadata": {
    "autoscroll": false,
    "ein.hycell": false,
    "ein.tags": "worksheet-0",
    "slideshow": {
     "slide_type": "-"
    }
   },
   "outputs": [],
   "source": [
    "%matplotlib inline\n",
    "import cosima_cookbook as cc"
   ]
  },
  {
   "cell_type": "markdown",
   "metadata": {
    "ein.tags": "worksheet-0",
    "slideshow": {
     "slide_type": "-"
    }
   },
   "source": [
    "**First, create a database session** using the inbuilt `create_session` function. To do this, you need to specify a path for the database - choose a location where you have write permission (that is, not the example that I have given here):"
   ]
  },
  {
   "cell_type": "code",
   "execution_count": 2,
   "metadata": {
    "autoscroll": false,
    "ein.hycell": false,
    "ein.tags": "worksheet-0",
    "slideshow": {
     "slide_type": "-"
    }
   },
   "outputs": [],
   "source": [
    "db = '/g/data/e14/rmh561/access-om2/archive/databases/cc_database_nummix.db'\n",
    "session = cc.database.create_session(db)"
   ]
  },
  {
   "cell_type": "markdown",
   "metadata": {
    "ein.tags": "worksheet-0",
    "slideshow": {
     "slide_type": "-"
    }
   },
   "source": [
    "Note that you need to create the database session every time you start up your notebook; you can then update this database however many times you like."
   ]
  },
  {
   "cell_type": "markdown",
   "metadata": {
    "ein.tags": "worksheet-0",
    "slideshow": {
     "slide_type": "-"
    }
   },
   "source": [
    "**Now you are ready to build a database.** First, select which *experiments* you want to include in your database. For these purposes, an *experiment* is a directory containing output from a single simulation. (If you use a higher level directory you won't be able to distinguish between experiments.) \n",
    "\n",
    "My example below constructs a list of three experiment directories; I have chosen three cases with differing resolution. The database will be built to index all netcdf files in each directory."
   ]
  },
  {
   "cell_type": "code",
   "execution_count": 3,
   "metadata": {
    "autoscroll": false,
    "ein.hycell": false,
    "ein.tags": "worksheet-0",
    "slideshow": {
     "slide_type": "-"
    }
   },
   "outputs": [
    {
     "name": "stdout",
     "output_type": "stream",
     "text": [
      "Indexing experiment: 1deg_jra55_ryf_kds50\n"
     ]
    },
    {
     "name": "stderr",
     "output_type": "stream",
     "text": [
      "100%|██████████| 145/145 [00:24<00:00,  5.91it/s]\n"
     ]
    },
    {
     "name": "stdout",
     "output_type": "stream",
     "text": [
      "Indexing experiment: 1deg_jra55_ryf_kds75\n"
     ]
    },
    {
     "name": "stderr",
     "output_type": "stream",
     "text": [
      "100%|██████████| 4172/4172 [14:52<00:00,  4.68it/s]\n"
     ]
    },
    {
     "name": "stdout",
     "output_type": "stream",
     "text": [
      "Indexing experiment: 1deg_jra55_ryf_kds100\n"
     ]
    },
    {
     "name": "stderr",
     "output_type": "stream",
     "text": [
      "100%|██████████| 4169/4169 [17:06<00:00,  4.06it/s]  \n"
     ]
    },
    {
     "name": "stdout",
     "output_type": "stream",
     "text": [
      "Indexing experiment: 1deg_jra55_ryf_kds135\n"
     ]
    },
    {
     "name": "stderr",
     "output_type": "stream",
     "text": [
      "100%|██████████| 4169/4169 [17:04<00:00,  4.07it/s]  \n"
     ]
    },
    {
     "name": "stdout",
     "output_type": "stream",
     "text": [
      "Indexing experiment: 1deg_jra55_ryf_gfdl50\n"
     ]
    },
    {
     "name": "stderr",
     "output_type": "stream",
     "text": [
      "100%|██████████| 4203/4203 [18:17<00:00,  3.83it/s]  \n"
     ]
    },
    {
     "name": "stdout",
     "output_type": "stream",
     "text": [
      "Indexing experiment: 025deg_jra55_ryf_rediGM\n"
     ]
    },
    {
     "name": "stderr",
     "output_type": "stream",
     "text": [
      "100%|█████████▉| 275/276 [01:08<00:00,  3.05it/s]ERROR:root:Error indexing /g/data/e14/rmh561/access-om2/archive/025deg_jra55_ryf_rediGM/ocean_wmass.aom2.out083lap.ncra.nc: [Errno -101] NetCDF: HDF error: b'/g/data/e14/rmh561/access-om2/archive/025deg_jra55_ryf_rediGM/ocean_wmass.aom2.out083lap.ncra.nc'\n",
      "100%|██████████| 276/276 [01:08<00:00,  4.03it/s]\n"
     ]
    },
    {
     "name": "stdout",
     "output_type": "stream",
     "text": [
      "Indexing experiment: 025deg_jra55_ryf_norediGM\n"
     ]
    },
    {
     "name": "stderr",
     "output_type": "stream",
     "text": [
      "100%|██████████| 728/728 [02:15<00:00,  5.39it/s]\n"
     ]
    },
    {
     "name": "stdout",
     "output_type": "stream",
     "text": [
      "Indexing experiment: 025deg_jra55_ryf_noGM\n"
     ]
    },
    {
     "name": "stderr",
     "output_type": "stream",
     "text": [
      "100%|██████████| 613/613 [01:44<00:00,  5.87it/s]\n"
     ]
    },
    {
     "name": "stdout",
     "output_type": "stream",
     "text": [
      "Indexing experiment: 025deg_jra55_ryf_rediGM_kb1em5\n"
     ]
    },
    {
     "name": "stderr",
     "output_type": "stream",
     "text": [
      "100%|██████████| 422/422 [01:09<00:00,  6.06it/s]\n"
     ]
    },
    {
     "name": "stdout",
     "output_type": "stream",
     "text": [
      "Indexing experiment: 025deg_jra55_ryf_rediGM_kbvar\n"
     ]
    },
    {
     "name": "stderr",
     "output_type": "stream",
     "text": [
      "100%|██████████| 428/428 [01:18<00:00,  5.43it/s]\n"
     ]
    },
    {
     "name": "stdout",
     "output_type": "stream",
     "text": [
      "Indexing experiment: 025deg_jra55_ryf_kds75\n"
     ]
    },
    {
     "name": "stderr",
     "output_type": "stream",
     "text": [
      "100%|██████████| 471/471 [01:14<00:00,  6.28it/s]\n"
     ]
    },
    {
     "name": "stdout",
     "output_type": "stream",
     "text": [
      "Indexing experiment: 01deg_jra55_ryf\n"
     ]
    },
    {
     "name": "stderr",
     "output_type": "stream",
     "text": [
      "100%|██████████| 126/126 [00:20<00:00,  6.01it/s]\n"
     ]
    },
    {
     "name": "stdout",
     "output_type": "stream",
     "text": [
      "Indexing experiment: 01deg_jra55v13_ryf9091\n"
     ]
    },
    {
     "name": "stderr",
     "output_type": "stream",
     "text": [
      "100%|██████████| 9928/9928 [31:41<00:00,  5.22it/s]  \n"
     ]
    },
    {
     "name": "stdout",
     "output_type": "stream",
     "text": [
      "Indexing experiment: 01deg_jra55v13_ryf9091_k_smag_iso3\n"
     ]
    },
    {
     "name": "stderr",
     "output_type": "stream",
     "text": [
      "100%|██████████| 128/128 [00:25<00:00,  5.11it/s]\n"
     ]
    },
    {
     "data": {
      "text/plain": [
       "29978"
      ]
     },
     "execution_count": 3,
     "metadata": {},
     "output_type": "execute_result"
    }
   ],
   "source": [
    "dir_list=[# 1-degree runs\n",
    "            '/g/data/e14/rmh561/access-om2/archive/1deg_jra55_ryf_kds50',\n",
    "            '/g/data/e14/rmh561/access-om2/archive/1deg_jra55_ryf_kds75',\n",
    "            '/g/data/e14/rmh561/access-om2/archive/1deg_jra55_ryf_kds100',\n",
    "            '/g/data/e14/rmh561/access-om2/archive/1deg_jra55_ryf_kds135',\n",
    "            '/g/data/e14/rmh561/access-om2/archive/1deg_jra55_ryf_gfdl50',\n",
    "          # 1/4-degree runs\n",
    "            '/g/data/e14/rmh561/access-om2/archive/025deg_jra55_ryf_rediGM',\n",
    "            '/g/data/e14/rmh561/access-om2/archive/025deg_jra55_ryf_norediGM',\n",
    "            '/g/data/e14/rmh561/access-om2/archive/025deg_jra55_ryf_noGM',\n",
    "            '/g/data/e14/rmh561/access-om2/archive/025deg_jra55_ryf_rediGM_kb1em5',\n",
    "            '/g/data/e14/rmh561/access-om2/archive/025deg_jra55_ryf_rediGM_kbvar',\n",
    "            '/g/data/e14/rmh561/access-om2/archive/025deg_jra55_ryf_kds75',\n",
    "          # 1/10-degree runs\n",
    "            '/g/data/e14/rmh561/access-om2/archive/01deg_jra55_ryf', # diathermal diags run (some snapshots 2nd year)\n",
    "            '/g/data/ik11/outputs/access-om2-01/01deg_jra55v13_ryf9091', # original 01-degree run \n",
    "            '/g/data/ik11/outputs/access-om2-01/01deg_jra55v13_ryf9091_k_smag_iso3' # k_smag run\n",
    "            ]\n",
    "cc.database.build_index(dir_list,session,update=True)"
   ]
  },
  {
   "cell_type": "markdown",
   "metadata": {
    "ein.tags": "worksheet-0",
    "slideshow": {
     "slide_type": "-"
    }
   },
   "source": [
    "Note that this operation may take a little while first time through, but is relatively painless to update -- **provided that you have the `update=True` flag switched on**. Now you have your own database - remember to specify your own database when you load model output, or else it will look for your experiment in the default database.\n",
    "\n",
    "## Using the database\n",
    "To know how to effectively use this database, please see the companion tutorial: `COSIMA_CookBook_Tutorial`. Alternatively, here is a sample that shows how you might load a variable from an experiment in your database."
   ]
  },
  {
   "cell_type": "code",
   "execution_count": null,
   "metadata": {
    "autoscroll": false,
    "ein.hycell": false,
    "ein.tags": "worksheet-0",
    "slideshow": {
     "slide_type": "-"
    }
   },
   "outputs": [],
   "source": [
    "expt =  '025deg_jra55v13_iaf_gmredi6'\n",
    "variable = 'ke_tot'\n",
    "darray = cc.querying.getvar(expt, variable, session)\n",
    "annual_average = darray.resample(time='A').mean(dim='time')\n",
    "annual_average.plot()"
   ]
  },
  {
   "cell_type": "markdown",
   "metadata": {
    "ein.tags": "worksheet-0",
    "slideshow": {
     "slide_type": "-"
    }
   },
   "source": [
    "If you want to know more about the inbuilt functions used above, you can use the help function at any time, for example:"
   ]
  },
  {
   "cell_type": "code",
   "execution_count": null,
   "metadata": {
    "autoscroll": false,
    "ein.hycell": false,
    "ein.tags": "worksheet-0",
    "slideshow": {
     "slide_type": "-"
    }
   },
   "outputs": [],
   "source": [
    "help(cc.database.create_session)"
   ]
  },
  {
   "cell_type": "code",
   "execution_count": null,
   "metadata": {
    "autoscroll": false,
    "ein.hycell": false,
    "ein.tags": "worksheet-0",
    "slideshow": {
     "slide_type": "-"
    }
   },
   "outputs": [],
   "source": [
    "help(cc.querying.getvar)"
   ]
  },
  {
   "cell_type": "code",
   "execution_count": null,
   "metadata": {
    "autoscroll": false,
    "ein.hycell": false,
    "ein.tags": "worksheet-0",
    "slideshow": {
     "slide_type": "-"
    }
   },
   "outputs": [],
   "source": []
  }
 ],
 "metadata": {
  "kernelspec": {
   "display_name": "Python [conda env:analysis3-20.01]",
   "language": "python",
   "name": "conda-env-analysis3-20.01-py"
  },
  "language_info": {
   "codemirror_mode": {
    "name": "ipython",
    "version": 3
   },
   "file_extension": ".py",
   "mimetype": "text/x-python",
   "name": "python",
   "nbconvert_exporter": "python",
   "pygments_lexer": "ipython3",
   "version": "3.7.6"
  },
  "name": "Make_Database.ipynb"
 },
 "nbformat": 4,
 "nbformat_minor": 4
}
