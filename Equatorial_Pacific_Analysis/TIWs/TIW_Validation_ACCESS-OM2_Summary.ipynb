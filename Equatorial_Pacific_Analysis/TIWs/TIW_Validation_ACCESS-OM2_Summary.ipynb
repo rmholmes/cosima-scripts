{
 "cells": [
  {
   "cell_type": "markdown",
   "id": "7bdfd0c5",
   "metadata": {},
   "source": [
    "# Validation/assessment of TIWs in ACCESS-OM2-01 and ACCESS-OM2-025 IAF runs\n",
    "\n",
    "This script summarizes the representation of TIWs in ACCESS-OM2-01 and ACCESS-OM2-025 when compared to OISST and CMEMS (AVISO) observations.\n",
    "\n",
    "Executive summary: TIWs are too weak in both ACCESS-OM2-01/ACCESS-OM2-025 (by at least 50% in terms of filtered SSH anomalies). This may be linked to a much too weak North Equatorial Counter Current (NECC) - a common feature of OMIP models that has been linked in the literature to problems with assimilation of QuikSCAT data into reanalysis products (CORE, JRA55), including a double counting of the current/relative wind effect."
   ]
  },
  {
   "cell_type": "markdown",
   "id": "6b699921",
   "metadata": {},
   "source": [
    "## First some daily snapshots\n",
    "\n",
    "![2010-11-07](SST_SSH_snapshot_025deg_01deg_satobs_2010-11-07.png)\n",
    "![2011-11-01](SST_SSH_snapshot_025deg_01deg_satobs_2011-11-01.png)\n",
    "\n",
    "From these figures it is clear that:\n",
    "- TIWs in both ACCESS-OM2-025 and ACCESS-OM2-01 seems to have shorter wavelengths and do not penetrate as far north as in the observations (e.g. 2010-11-07, top plot, there seem to be 5 wavelengths from 120 to 160W in ACCESS-OM2, compared to 3 in the SST and SSH observations). \n",
    "- The magnitude of the TIV SSH anomalies are much weaker than in the observations (factor of 2 at least).\n",
    "- ACCESS-OM2-01 shows significant submesoscale variability and instabilities along the TIW fronts, which seem to result in less northward penetration of cold water than in ACCESS-OM2-025."
   ]
  },
  {
   "cell_type": "markdown",
   "id": "b6430db6",
   "metadata": {},
   "source": [
    "## Hovmoeller's of SST and SSH variability at 2N in the 2010-2011 season\n",
    "![Hovmoeller](SST_2010_Hovemoeller_2N.png)\n",
    "- This Hovmoeller plot shows similar features. The observations have much wider cold tongues and less TIWs/season than the models. The propagation speed also looks a bit faster.\n",
    "- There is also the strange feature in the models that at the end of the season the TIWs actually seem to propage *eastwards* - possibly because of a too weak SEC?\n"
   ]
  },
  {
   "cell_type": "markdown",
   "id": "df05b46b",
   "metadata": {},
   "source": [
    "## Comparison of 12-degree longitude high-pass filtered SST and SSH variability amplitude (2009-2019)\n",
    "![Variance](SSH_SST_FiltPlot_01deg_025deg.png)\n",
    "![Variance sum](SSH_SST_FiltPlot_LonAvg.png)\n",
    "\n",
    "- Clearly both SST and SSH variability is significantly reduced in both models. The difference in SSH variability is particularly strong - with TIW SSH perturbations being <50%\n"
   ]
  },
  {
   "cell_type": "markdown",
   "id": "64dcf2f3",
   "metadata": {},
   "source": [
    "## Where is this coming from? \n",
    "\n",
    "Likely: Lateral surface velocity shears? Comparison of meridional structure of surface currents, SST and SSH to observations (2000-2017):\n",
    "\n",
    "![Variance](SSH_SST_u_140W_2000-2017.png)"
   ]
  },
  {
   "cell_type": "markdown",
   "id": "14c6d43c",
   "metadata": {},
   "source": [
    "These plots show:\n",
    "- Much weaker NECC in the models than in observations - by 80% or so.\n",
    "- Much weaker shear between NECC and SEC in the models.\n",
    "- a weakened N-S SST gradient in the models.\n",
    "\n",
    "Where is this coming from?\n",
    "\n",
    "The weak NECC is a common feature of many ocean models. For example, the OMIP-1 and OMIP-2 models (Tsujino et al. 2020, GMD):\n",
    "![OMIPssh](OMIP_SSH_bias.png)\n",
    "\n",
    "The clear red (high) SSH bias around 10N is evident in both OMIP-1 (CORE forced) and OMIP-2 (JRA55 forced) models. It actually appears to be worse in the OMIP ensemble mean than it is in ACCESS-OM2.\n",
    "\n",
    "The sources of this bias have been studied in the literature, in particular recently by the NCAR people:\n",
    "\n",
    "Sun, Z.; Liu, H.; Lin, P.; Tseng, Y.-h.; Small, J. & Bryan, F.\n",
    "The Modeling of the North Equatorial Countercurrent in the Community Earth System Model and its Oceanic Component \n",
    "J. Adv. Model. Earth Syst., 2019, 11, 531-544 \n",
    "\n",
    "Sun, Z.; Small, J.; Bryan, F.; Tseng, Y.-h.; Liu, H. & Lin, P.\n",
    "The impact of wind corrections and ocean-current influence on wind stress forcing on the modeling of Pacific North Equatorial Countercurrent \n",
    "Ocean Modelling, 2021, 101876 \n",
    "\n",
    "THe proposed source (Sun 2019) in CORE runs is the correction to NCEP reanalysis from QuickSCAT observations. This is coming from:\n",
    "1) neutral winds vs. 10m winds (this is not the current effect - it is to do with atmos. stability).\n",
    "2) double counting the current effect\n",
    "3) rain contamination of QuickSCAT under the ITCZ.\n",
    "JRA55-do supposedly does a better job of 1), but still has problems suggesting it is not the main effect.\n",
    "\n",
    "Sun (2021) do a more detailed analysis by comparing simulations forced with JRA55-raw (no quikSCAT correction to surface winds for ocean forcing) and JRA55-do, as well as with and without current feedbacks. They find that the quikSCAT bias correction (JRA55-raw vs. JRA55-do) slows the NECC by ~60%, with possibly 26-30% of this coming from whether or not the ocean current feedback is double counted or not (where the remainig 30% is coming is not known - there are a few refs. in the conclusion). Unfortunately the JRA55-do corrections are really needed for forcing elsewhere (e.g. SO). They discuss a few possible approaches of addressing this, refering to Renault et al. (2019,2020, \"Recipes to force an ocean model...\"). There is also this ASCAT product which might do a better job than QuikSCAT?\n",
    "\n",
    "It looks like, like JRA-55, ERA-5 does account for neutral vs. 10m winds. However, apart from that there is no further information about this issue in the ERA-5 paper (Hersbach et al. 2020), and I don't think there is a \"do\" version of the ERA-5 forcing. **This actually means that if we force ACCESS-OM2 with raw ERA-5 data then we might do a better job with the NECC - will be interesting to see**.\n",
    "\n",
    "Another product to look at what be ACCESS-CM2 (preferably ACCESS-CM2-025). TODO."
   ]
  },
  {
   "cell_type": "code",
   "execution_count": null,
   "id": "280971f7",
   "metadata": {},
   "outputs": [],
   "source": []
  }
 ],
 "metadata": {
  "kernelspec": {
   "display_name": "Python 3 (ipykernel)",
   "language": "python",
   "name": "python3"
  },
  "language_info": {
   "codemirror_mode": {
    "name": "ipython",
    "version": 3
   },
   "file_extension": ".py",
   "mimetype": "text/x-python",
   "name": "python",
   "nbconvert_exporter": "python",
   "pygments_lexer": "ipython3",
   "version": "3.9.13"
  }
 },
 "nbformat": 4,
 "nbformat_minor": 5
}
